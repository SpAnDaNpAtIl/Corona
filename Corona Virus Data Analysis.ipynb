{
 "cells": [
  {
   "cell_type": "markdown",
   "metadata": {},
   "source": [
    "# Corona Virus Data Analysis by SPANDAN\n",
    "\n",
    "This data is taken from data.world and is updated daily. Databasing started from december"
   ]
  },
  {
   "cell_type": "code",
   "execution_count": 1,
   "metadata": {},
   "outputs": [],
   "source": [
    "import matplotlib.pyplot as plt"
   ]
  },
  {
   "cell_type": "code",
   "execution_count": 2,
   "metadata": {},
   "outputs": [],
   "source": [
    "import pandas as pd\n",
    "full_data = pd.read_csv('https://query.data.world/s/ytbg4xg6c24i3cmvic6zspeg5pa6qr')\n",
    "new_cases = pd.read_csv('https://query.data.world/s/yebwylnavawqe4ozlit237qruwm3ow')\n",
    "new_deaths = pd.read_csv('https://query.data.world/s/cwpe4pil2phgiyrxbdr4eiq4zxfehz')\n",
    "total_cases = pd.read_csv('https://query.data.world/s/krgyo345co3e3kngbo6aqkwl2juzos')\n",
    "total_deaths = pd.read_csv('https://query.data.world/s/kqbeee6erlp624tjgeybmjijulgkv7')"
   ]
  },
  {
   "cell_type": "code",
   "execution_count": 3,
   "metadata": {},
   "outputs": [
    {
     "name": "stdout",
     "output_type": "stream",
     "text": [
      "         date     location  new_cases  new_deaths  total_cases  total_deaths\n",
      "0  2019-12-31  Afghanistan          0           0            0             0\n",
      "1  2020-01-01  Afghanistan          0           0            0             0\n",
      "2  2020-01-02  Afghanistan          0           0            0             0\n",
      "3  2020-01-03  Afghanistan          0           0            0             0\n",
      "4  2020-01-04  Afghanistan          0           0            0             0\n"
     ]
    }
   ],
   "source": [
    "print(full_data.head(5))"
   ]
  },
  {
   "cell_type": "code",
   "execution_count": 4,
   "metadata": {},
   "outputs": [
    {
     "name": "stdout",
     "output_type": "stream",
     "text": [
      "(15410, 6)\n"
     ]
    }
   ],
   "source": [
    "print(full_data.shape)"
   ]
  },
  {
   "cell_type": "code",
   "execution_count": 5,
   "metadata": {},
   "outputs": [
    {
     "name": "stdout",
     "output_type": "stream",
     "text": [
      "         date  World  Afghanistan  Albania  Algeria  Andorra  Angola  \\\n",
      "0  2019-12-31     27          0.0      NaN      0.0      NaN     NaN   \n",
      "1  2020-01-01      0          0.0      NaN      0.0      NaN     NaN   \n",
      "2  2020-01-02      0          0.0      NaN      0.0      NaN     NaN   \n",
      "3  2020-01-03     17          0.0      NaN      0.0      NaN     NaN   \n",
      "4  2020-01-04      0          0.0      NaN      0.0      NaN     NaN   \n",
      "\n",
      "   Anguilla  Antigua and Barbuda  Argentina  ...  \\\n",
      "0       NaN                  NaN        NaN  ...   \n",
      "1       NaN                  NaN        NaN  ...   \n",
      "2       NaN                  NaN        NaN  ...   \n",
      "3       NaN                  NaN        NaN  ...   \n",
      "4       NaN                  NaN        NaN  ...   \n",
      "\n",
      "   United States Virgin Islands  Uruguay  Uzbekistan  Vatican  Venezuela  \\\n",
      "0                           NaN      NaN         NaN      NaN        NaN   \n",
      "1                           NaN      NaN         NaN      NaN        NaN   \n",
      "2                           NaN      NaN         NaN      NaN        NaN   \n",
      "3                           NaN      NaN         NaN      NaN        NaN   \n",
      "4                           NaN      NaN         NaN      NaN        NaN   \n",
      "\n",
      "   Vietnam  Western Sahara  Yemen  Zambia  Zimbabwe  \n",
      "0      0.0             NaN    NaN     NaN       NaN  \n",
      "1      0.0             NaN    NaN     NaN       NaN  \n",
      "2      0.0             NaN    NaN     NaN       NaN  \n",
      "3      0.0             NaN    NaN     NaN       NaN  \n",
      "4      0.0             NaN    NaN     NaN       NaN  \n",
      "\n",
      "[5 rows x 211 columns]\n"
     ]
    }
   ],
   "source": [
    "print(new_cases.head(5))"
   ]
  },
  {
   "cell_type": "code",
   "execution_count": 6,
   "metadata": {},
   "outputs": [
    {
     "name": "stdout",
     "output_type": "stream",
     "text": [
      "(128, 211)\n"
     ]
    }
   ],
   "source": [
    "print(new_cases.shape)"
   ]
  },
  {
   "cell_type": "code",
   "execution_count": 7,
   "metadata": {},
   "outputs": [
    {
     "name": "stdout",
     "output_type": "stream",
     "text": [
      "         date  World  Afghanistan  Albania  Algeria  Andorra  Angola  \\\n",
      "0  2019-12-31      0          0.0      NaN      0.0      NaN     NaN   \n",
      "1  2020-01-01      0          0.0      NaN      0.0      NaN     NaN   \n",
      "2  2020-01-02      0          0.0      NaN      0.0      NaN     NaN   \n",
      "3  2020-01-03      0          0.0      NaN      0.0      NaN     NaN   \n",
      "4  2020-01-04      0          0.0      NaN      0.0      NaN     NaN   \n",
      "\n",
      "   Anguilla  Antigua and Barbuda  Argentina  ...  \\\n",
      "0       NaN                  NaN        NaN  ...   \n",
      "1       NaN                  NaN        NaN  ...   \n",
      "2       NaN                  NaN        NaN  ...   \n",
      "3       NaN                  NaN        NaN  ...   \n",
      "4       NaN                  NaN        NaN  ...   \n",
      "\n",
      "   United States Virgin Islands  Uruguay  Uzbekistan  Vatican  Venezuela  \\\n",
      "0                           NaN      NaN         NaN      NaN        NaN   \n",
      "1                           NaN      NaN         NaN      NaN        NaN   \n",
      "2                           NaN      NaN         NaN      NaN        NaN   \n",
      "3                           NaN      NaN         NaN      NaN        NaN   \n",
      "4                           NaN      NaN         NaN      NaN        NaN   \n",
      "\n",
      "   Vietnam  Western Sahara  Yemen  Zambia  Zimbabwe  \n",
      "0      0.0             NaN    NaN     NaN       NaN  \n",
      "1      0.0             NaN    NaN     NaN       NaN  \n",
      "2      0.0             NaN    NaN     NaN       NaN  \n",
      "3      0.0             NaN    NaN     NaN       NaN  \n",
      "4      0.0             NaN    NaN     NaN       NaN  \n",
      "\n",
      "[5 rows x 211 columns]\n"
     ]
    }
   ],
   "source": [
    "print(new_deaths.head(5))"
   ]
  },
  {
   "cell_type": "code",
   "execution_count": 8,
   "metadata": {},
   "outputs": [
    {
     "name": "stdout",
     "output_type": "stream",
     "text": [
      "(128, 211)\n"
     ]
    }
   ],
   "source": [
    "print(new_deaths.shape)"
   ]
  },
  {
   "cell_type": "code",
   "execution_count": 9,
   "metadata": {},
   "outputs": [
    {
     "name": "stdout",
     "output_type": "stream",
     "text": [
      "         date  World  Afghanistan  Albania  Algeria  Andorra  Angola  \\\n",
      "0  2019-12-31     27          0.0      NaN      0.0      NaN     NaN   \n",
      "1  2020-01-01     27          0.0      NaN      0.0      NaN     NaN   \n",
      "2  2020-01-02     27          0.0      NaN      0.0      NaN     NaN   \n",
      "3  2020-01-03     44          0.0      NaN      0.0      NaN     NaN   \n",
      "4  2020-01-04     44          0.0      NaN      0.0      NaN     NaN   \n",
      "\n",
      "   Anguilla  Antigua and Barbuda  Argentina  ...  \\\n",
      "0       NaN                  NaN        NaN  ...   \n",
      "1       NaN                  NaN        NaN  ...   \n",
      "2       NaN                  NaN        NaN  ...   \n",
      "3       NaN                  NaN        NaN  ...   \n",
      "4       NaN                  NaN        NaN  ...   \n",
      "\n",
      "   United States Virgin Islands  Uruguay  Uzbekistan  Vatican  Venezuela  \\\n",
      "0                           NaN      NaN         NaN      NaN        NaN   \n",
      "1                           NaN      NaN         NaN      NaN        NaN   \n",
      "2                           NaN      NaN         NaN      NaN        NaN   \n",
      "3                           NaN      NaN         NaN      NaN        NaN   \n",
      "4                           NaN      NaN         NaN      NaN        NaN   \n",
      "\n",
      "   Vietnam  Western Sahara  Yemen  Zambia  Zimbabwe  \n",
      "0      0.0             NaN    NaN     NaN       NaN  \n",
      "1      0.0             NaN    NaN     NaN       NaN  \n",
      "2      0.0             NaN    NaN     NaN       NaN  \n",
      "3      0.0             NaN    NaN     NaN       NaN  \n",
      "4      0.0             NaN    NaN     NaN       NaN  \n",
      "\n",
      "[5 rows x 211 columns]\n"
     ]
    }
   ],
   "source": [
    "print(total_cases.head(5))"
   ]
  },
  {
   "cell_type": "code",
   "execution_count": 10,
   "metadata": {},
   "outputs": [
    {
     "name": "stdout",
     "output_type": "stream",
     "text": [
      "(128, 211)\n"
     ]
    }
   ],
   "source": [
    "print(total_cases.shape)"
   ]
  },
  {
   "cell_type": "code",
   "execution_count": 11,
   "metadata": {},
   "outputs": [
    {
     "name": "stdout",
     "output_type": "stream",
     "text": [
      "         date  World  Afghanistan  Albania  Algeria  Andorra  Angola  \\\n",
      "0  2019-12-31      0          0.0      NaN      0.0      NaN     NaN   \n",
      "1  2020-01-01      0          0.0      NaN      0.0      NaN     NaN   \n",
      "2  2020-01-02      0          0.0      NaN      0.0      NaN     NaN   \n",
      "3  2020-01-03      0          0.0      NaN      0.0      NaN     NaN   \n",
      "4  2020-01-04      0          0.0      NaN      0.0      NaN     NaN   \n",
      "\n",
      "   Anguilla  Antigua and Barbuda  Argentina  ...  \\\n",
      "0       NaN                  NaN        NaN  ...   \n",
      "1       NaN                  NaN        NaN  ...   \n",
      "2       NaN                  NaN        NaN  ...   \n",
      "3       NaN                  NaN        NaN  ...   \n",
      "4       NaN                  NaN        NaN  ...   \n",
      "\n",
      "   United States Virgin Islands  Uruguay  Uzbekistan  Vatican  Venezuela  \\\n",
      "0                           NaN      NaN         NaN      NaN        NaN   \n",
      "1                           NaN      NaN         NaN      NaN        NaN   \n",
      "2                           NaN      NaN         NaN      NaN        NaN   \n",
      "3                           NaN      NaN         NaN      NaN        NaN   \n",
      "4                           NaN      NaN         NaN      NaN        NaN   \n",
      "\n",
      "   Vietnam  Western Sahara  Yemen  Zambia  Zimbabwe  \n",
      "0      0.0             NaN    NaN     NaN       NaN  \n",
      "1      0.0             NaN    NaN     NaN       NaN  \n",
      "2      0.0             NaN    NaN     NaN       NaN  \n",
      "3      0.0             NaN    NaN     NaN       NaN  \n",
      "4      0.0             NaN    NaN     NaN       NaN  \n",
      "\n",
      "[5 rows x 211 columns]\n"
     ]
    }
   ],
   "source": [
    "print(total_deaths.head(5))"
   ]
  },
  {
   "cell_type": "code",
   "execution_count": 12,
   "metadata": {},
   "outputs": [
    {
     "name": "stdout",
     "output_type": "stream",
     "text": [
      "(128, 211)\n"
     ]
    }
   ],
   "source": [
    "print(total_deaths.shape)"
   ]
  },
  {
   "cell_type": "code",
   "execution_count": 13,
   "metadata": {},
   "outputs": [],
   "source": [
    "a = len(full_data)"
   ]
  },
  {
   "cell_type": "code",
   "execution_count": 14,
   "metadata": {},
   "outputs": [
    {
     "data": {
      "text/plain": [
       "15410"
      ]
     },
     "execution_count": 14,
     "metadata": {},
     "output_type": "execute_result"
    }
   ],
   "source": [
    "a"
   ]
  },
  {
   "cell_type": "markdown",
   "metadata": {},
   "source": [
    "### Lets make a function to show the graph of any country for full_data"
   ]
  },
  {
   "cell_type": "code",
   "execution_count": 15,
   "metadata": {},
   "outputs": [],
   "source": [
    "def country(y):\n",
    "    x=str(y)\n",
    "    dt=pd.DataFrame()\n",
    "    tot_cas=[]\n",
    "    tot_dea=[]\n",
    "    date=[]\n",
    "    day=[]\n",
    "    ckp=0\n",
    "    for i in range(a):\n",
    "        if(full_data['location'][i]==x):\n",
    "            tot_cas.append(full_data['total_cases'][i])\n",
    "            tot_dea.append(full_data['total_deaths'][i])\n",
    "            date.append(full_data['date'][i])\n",
    "            day.append(ckp)\n",
    "            ckp=ckp+1\n",
    "    f=tot_cas.index(1)\n",
    "    tot_ca=tot_cas[f+1:]\n",
    "    tot_de=tot_dea[f+1:]\n",
    "    da=day[f+1:]\n",
    "    plt.plot(da, (tot_ca),label='Total Cases')\n",
    "    plt.plot(da, tot_de, label='Total Deaths')"
   ]
  },
  {
   "cell_type": "markdown",
   "metadata": {},
   "source": [
    "This function plots graph from the day first corona patient was found in the respective country. The number which is appearing as in day is the number started from the day of data measuring i.e. 31st december 2019. Function will give an error in case of china. Will debug it later by exceptions method"
   ]
  },
  {
   "cell_type": "code",
   "execution_count": 16,
   "metadata": {
    "scrolled": true
   },
   "outputs": [
    {
     "data": {
      "image/png": "[encoded data removed]",
      "text/plain": [
       "<Figure size 432x288 with 1 Axes>"
      ]
     },
     "metadata": {
      "needs_background": "light"
     },
     "output_type": "display_data"
    }
   ],
   "source": [
    "country('India')"
   ]
  },
  {
   "cell_type": "markdown",
   "metadata": {},
   "source": [
    "Lets build a Machine Learning Model to predict how much cases will increase and how much total deaths will occur"
   ]
  },
  {
   "cell_type": "code",
   "execution_count": 53,
   "metadata": {},
   "outputs": [],
   "source": [
    "total_cases=[]\n",
    "total_deaths=[]\n",
    "day=[]"
   ]
  },
  {
   "cell_type": "code",
   "execution_count": 54,
   "metadata": {},
   "outputs": [],
   "source": [
    "#building a function which gives lists of total cases and deaths from a particular day\n",
    "\n",
    "def func(x):\n",
    "    p=str(x)\n",
    "    ckp=0\n",
    "    for i in range(a):\n",
    "        if(full_data['location'][i]==p):\n",
    "            total_cases.append(full_data['total_cases'][i])\n",
    "            total_deaths.append(full_data['total_deaths'][i])\n",
    "            day.append(ckp)\n",
    "            ckp=ckp+1"
   ]
  },
  {
   "cell_type": "code",
   "execution_count": 55,
   "metadata": {},
   "outputs": [],
   "source": [
    "func('India')"
   ]
  },
  {
   "cell_type": "code",
   "execution_count": 20,
   "metadata": {},
   "outputs": [
    {
     "data": {
      "text/plain": [
       "<matplotlib.collections.PathCollection at 0x24093735348>"
      ]
     },
     "execution_count": 20,
     "metadata": {},
     "output_type": "execute_result"
    },
    {
     "data": {
      "image/png": "[encoded data removed]",
      "text/plain": [
       "<Figure size 432x288 with 1 Axes>"
      ]
     },
     "metadata": {
      "needs_background": "light"
     },
     "output_type": "display_data"
    }
   ],
   "source": [
    "plt.scatter(day, total_cases)"
   ]
  },
  {
   "cell_type": "code",
   "execution_count": 21,
   "metadata": {},
   "outputs": [
    {
     "data": {
      "text/plain": [
       "<matplotlib.collections.PathCollection at 0x240937aef48>"
      ]
     },
     "execution_count": 21,
     "metadata": {},
     "output_type": "execute_result"
    },
    {
     "data": {
      "image/png": "[encoded data removed]",
      "text/plain": [
       "<Figure size 432x288 with 1 Axes>"
      ]
     },
     "metadata": {
      "needs_background": "light"
     },
     "output_type": "display_data"
    }
   ],
   "source": [
    "plt.scatter(day, total_deaths)"
   ]
  },
  {
   "cell_type": "markdown",
   "metadata": {},
   "source": [
    "Its pretty clear that sudden rise was seen from approx day 62 in total_cases rise. So lets start building model from day 60"
   ]
  },
  {
   "cell_type": "code",
   "execution_count": 56,
   "metadata": {},
   "outputs": [],
   "source": [
    "day_model=day[60:]\n",
    "total_cases_model=total_cases[60:]\n",
    "total_deaths_model = total_deaths[60:]"
   ]
  },
  {
   "cell_type": "markdown",
   "metadata": {},
   "source": [
    "### 1) Prediction by Linear Regression Model(will give a pretty bad model as we can see already that data is not varying linearly in available data"
   ]
  },
  {
   "cell_type": "code",
   "execution_count": 23,
   "metadata": {},
   "outputs": [],
   "source": [
    "from scipy import stats"
   ]
  },
  {
   "cell_type": "code",
   "execution_count": 24,
   "metadata": {},
   "outputs": [],
   "source": [
    "slope, intercept, r, p, std_err = stats.linregress(day_model, total_cases_model)\n",
    "def f(x):\n",
    "    return slope*x + intercept\n",
    "mymodel= list(map(f,day_model))"
   ]
  },
  {
   "cell_type": "code",
   "execution_count": 25,
   "metadata": {},
   "outputs": [
    {
     "data": {
      "text/plain": [
       "0.8670057498233972"
      ]
     },
     "execution_count": 25,
     "metadata": {},
     "output_type": "execute_result"
    }
   ],
   "source": [
    "r"
   ]
  },
  {
   "cell_type": "code",
   "execution_count": 26,
   "metadata": {},
   "outputs": [],
   "source": [
    "#0.85 is a good number so ML model is average but we know that this is the worst"
   ]
  },
  {
   "cell_type": "code",
   "execution_count": 27,
   "metadata": {},
   "outputs": [],
   "source": [
    "def g(x):\n",
    "    y=int(x)\n",
    "    for i in range(y):\n",
    "        day_model.append(day_model[-1]+1)\n",
    "        total_cases_model.append(slope*day_model[-1] + intercept)"
   ]
  },
  {
   "cell_type": "code",
   "execution_count": 28,
   "metadata": {},
   "outputs": [],
   "source": [
    "g(30)"
   ]
  },
  {
   "cell_type": "code",
   "execution_count": 29,
   "metadata": {},
   "outputs": [
    {
     "data": {
      "text/plain": [
       "[<matplotlib.lines.Line2D at 0x240958d3d48>]"
      ]
     },
     "execution_count": 29,
     "metadata": {},
     "output_type": "execute_result"
    },
    {
     "data": {
      "image/png": "[encoded data removed]",
      "text/plain": [
       "<Figure size 432x288 with 1 Axes>"
      ]
     },
     "metadata": {
      "needs_background": "light"
     },
     "output_type": "display_data"
    }
   ],
   "source": [
    "plt.plot(day_model, total_cases_model)"
   ]
  },
  {
   "cell_type": "markdown",
   "metadata": {},
   "source": [
    "Pretty bad, isnt it"
   ]
  },
  {
   "cell_type": "markdown",
   "metadata": {},
   "source": [
    "### 2. Polynomial Regression Model"
   ]
  },
  {
   "cell_type": "code",
   "execution_count": 57,
   "metadata": {},
   "outputs": [],
   "source": [
    "import numpy as np"
   ]
  },
  {
   "cell_type": "code",
   "execution_count": 58,
   "metadata": {},
   "outputs": [],
   "source": [
    "mymodel_1 = np.poly1d(np.polyfit(day_model,total_cases_model,3))"
   ]
  },
  {
   "cell_type": "code",
   "execution_count": 59,
   "metadata": {},
   "outputs": [],
   "source": [
    "from sklearn.metrics import r2_score"
   ]
  },
  {
   "cell_type": "code",
   "execution_count": 60,
   "metadata": {},
   "outputs": [
    {
     "name": "stdout",
     "output_type": "stream",
     "text": [
      "0.9992649824230267\n"
     ]
    }
   ],
   "source": [
    "print(r2_score(total_cases_model, mymodel_1(day_model)))"
   ]
  },
  {
   "cell_type": "code",
   "execution_count": 61,
   "metadata": {},
   "outputs": [],
   "source": [
    "def g(x):\n",
    "    y=int(x)\n",
    "    for i in range(y):\n",
    "        day_model.append(day_model[-1]+1)\n",
    "        total_cases_model.append(mymodel_1(day_model[-1]))"
   ]
  },
  {
   "cell_type": "code",
   "execution_count": 62,
   "metadata": {},
   "outputs": [],
   "source": [
    "g(30)"
   ]
  },
  {
   "cell_type": "code",
   "execution_count": 63,
   "metadata": {},
   "outputs": [
    {
     "data": {
      "text/plain": [
       "[<matplotlib.lines.Line2D at 0x24095d29848>]"
      ]
     },
     "execution_count": 63,
     "metadata": {},
     "output_type": "execute_result"
    },
    {
     "data": {
      "image/png": "[encoded data removed]",
      "text/plain": [
       "<Figure size 432x288 with 1 Axes>"
      ]
     },
     "metadata": {
      "needs_background": "light"
     },
     "output_type": "display_data"
    }
   ],
   "source": [
    "plt.plot(day_model, total_cases_model)"
   ]
  },
  {
   "cell_type": "code",
   "execution_count": 64,
   "metadata": {},
   "outputs": [],
   "source": [
    "#finding number of total cases at any futuristic day\n",
    "def total_cases_at_day(x):\n",
    "    y=int(x)\n",
    "    print(mymodel_1(y))\n",
    "    "
   ]
  },
  {
   "cell_type": "code",
   "execution_count": 65,
   "metadata": {},
   "outputs": [
    {
     "name": "stdout",
     "output_type": "stream",
     "text": [
      "907.90796873004\n"
     ]
    }
   ],
   "source": [
    "total_cases_at_day(87)"
   ]
  },
  {
   "cell_type": "code",
   "execution_count": 70,
   "metadata": {},
   "outputs": [
    {
     "name": "stdout",
     "output_type": "stream",
     "text": [
      "53645.613748411444\n"
     ]
    }
   ],
   "source": [
    "total_cases_at_day(128)"
   ]
  },
  {
   "cell_type": "code",
   "execution_count": 67,
   "metadata": {},
   "outputs": [],
   "source": [
    "#currently varying a lot as todays cases are approx 700"
   ]
  },
  {
   "cell_type": "code",
   "execution_count": 41,
   "metadata": {},
   "outputs": [],
   "source": [
    "#Lets build it again by taking all the data right from the day first corona patient was found"
   ]
  },
  {
   "cell_type": "code",
   "execution_count": 81,
   "metadata": {},
   "outputs": [],
   "source": [
    " dt=pd.DataFrame()\n",
    "tot_cas=[]\n",
    "tot_dea=[]\n",
    "date=[]\n",
    "day=[]\n",
    "ckp=0\n",
    "for i in range(a):\n",
    "    if(full_data['location'][i]=='India'):\n",
    "        tot_cas.append(full_data['total_cases'][i])\n",
    "        tot_dea.append(full_data['total_deaths'][i])\n",
    "        date.append(full_data['date'][i])\n",
    "        day.append(ckp)\n",
    "        ckp=ckp+1\n",
    "f=tot_cas.index(1)\n",
    "tot_ca=tot_cas[f+1:]\n",
    "tot_de=tot_dea[f+1:]\n",
    "da=day[f+1:]"
   ]
  },
  {
   "cell_type": "code",
   "execution_count": 86,
   "metadata": {},
   "outputs": [
    {
     "ename": "SyntaxError",
     "evalue": "unexpected EOF while parsing (<ipython-input-86-017b93710b93>, line 6)",
     "output_type": "error",
     "traceback": [
      "\u001b[1;36m  File \u001b[1;32m\"<ipython-input-86-017b93710b93>\"\u001b[1;36m, line \u001b[1;32m6\u001b[0m\n\u001b[1;33m    \u001b[0m\n\u001b[1;37m    ^\u001b[0m\n\u001b[1;31mSyntaxError\u001b[0m\u001b[1;31m:\u001b[0m unexpected EOF while parsing\n"
     ]
    }
   ],
   "source": [
    "k=0\n",
    "for i in range(2,100):\n",
    "    mymodel_2 = np.poly1d(np.polyfit(da,tot_ca,i))\n",
    "    if(r2_score(tot_ca, mymodel_2(da)>k)):\n",
    "        k = r2_score(tot_ca, mymodel_2(da)\n",
    "                    "
   ]
  },
  {
   "cell_type": "code",
   "execution_count": 96,
   "metadata": {},
   "outputs": [],
   "source": [
    "mymodel_2 = np.poly1d(np.polyfit(da,tot_ca,15))"
   ]
  },
  {
   "cell_type": "code",
   "execution_count": 97,
   "metadata": {},
   "outputs": [
    {
     "name": "stdout",
     "output_type": "stream",
     "text": [
      "0.9999445209425366\n"
     ]
    }
   ],
   "source": [
    "print(r2_score(tot_ca, mymodel_2(da)))"
   ]
  },
  {
   "cell_type": "code",
   "execution_count": 98,
   "metadata": {},
   "outputs": [],
   "source": [
    "#we knew that r squared will come lesser as complete data is taken\n",
    "def h(x):\n",
    "    y=int(x)\n",
    "    for i in range(y):\n",
    "        day.append(da[-1]+1)\n",
    "        total_cases.append(mymodel_2(da[-1]))"
   ]
  },
  {
   "cell_type": "code",
   "execution_count": 99,
   "metadata": {},
   "outputs": [],
   "source": [
    "h(30)"
   ]
  },
  {
   "cell_type": "code",
   "execution_count": 100,
   "metadata": {},
   "outputs": [
    {
     "data": {
      "text/plain": [
       "[<matplotlib.lines.Line2D at 0x24095e52c48>]"
      ]
     },
     "execution_count": 100,
     "metadata": {},
     "output_type": "execute_result"
    },
    {
     "data": {
      "image/png": "[encoded data removed]",
      "text/plain": [
       "<Figure size 432x288 with 1 Axes>"
      ]
     },
     "metadata": {
      "needs_background": "light"
     },
     "output_type": "display_data"
    }
   ],
   "source": [
    "plt.plot(da, tot_ca)"
   ]
  },
  {
   "cell_type": "code",
   "execution_count": 101,
   "metadata": {},
   "outputs": [
    {
     "name": "stdout",
     "output_type": "stream",
     "text": [
      "779.7054493427277\n"
     ]
    }
   ],
   "source": [
    "print(mymodel_2(87))"
   ]
  },
  {
   "cell_type": "code",
   "execution_count": 108,
   "metadata": {},
   "outputs": [
    {
     "name": "stdout",
     "output_type": "stream",
     "text": [
      "53682.96790164709\n"
     ]
    }
   ],
   "source": [
    "print(mymodel_2(128))"
   ]
  },
  {
   "cell_type": "code",
   "execution_count": 105,
   "metadata": {},
   "outputs": [],
   "source": [
    "ack=[]\n",
    "d=0\n",
    "for i in range(10):\n",
    "    ack.append((mymodel_2(128+i+1),d+1))\n",
    "    d=d+1"
   ]
  },
  {
   "cell_type": "code",
   "execution_count": 106,
   "metadata": {},
   "outputs": [
    {
     "data": {
      "text/plain": [
       "[(51447.003721892834, 1),\n",
       " (42422.835588395596, 2),\n",
       " (21486.650396227837, 3),\n",
       " (-19171.24920463562, 4),\n",
       " (-91120.59710335732, 5),\n",
       " (-211108.64689028263, 6),\n",
       " (-402905.46147841215, 7),\n",
       " (-699682.1358401179, 8),\n",
       " (-1147052.6179808378, 9),\n",
       " (-1806921.9345303774, 10)]"
      ]
     },
     "execution_count": 106,
     "metadata": {},
     "output_type": "execute_result"
    }
   ],
   "source": [
    "ack"
   ]
  },
  {
   "cell_type": "code",
   "execution_count": null,
   "metadata": {},
   "outputs": [],
   "source": []
  }
 ],
 "metadata": {
  "kernelspec": {
   "display_name": "Python 3",
   "language": "python",
   "name": "python3"
  },
  "language_info": {
   "codemirror_mode": {
    "name": "ipython",
    "version": 3
   },
   "file_extension": ".py",
   "mimetype": "text/x-python",
   "name": "python",
   "nbconvert_exporter": "python",
   "pygments_lexer": "ipython3",
   "version": "3.7.6"
  }
 },
 "nbformat": 4,
 "nbformat_minor": 4
}
