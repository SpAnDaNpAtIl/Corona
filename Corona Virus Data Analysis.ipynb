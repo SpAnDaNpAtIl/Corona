{
 "cells": [
  {
   "cell_type": "markdown",
   "metadata": {},
   "source": [
    "# Corona Virus Data Analysis by SPANDAN\n",
    "\n",
    "This data is taken from data.world and is updated daily. Databasing started from december"
   ]
  },
  {
   "cell_type": "code",
   "execution_count": 1,
   "metadata": {},
   "outputs": [],
   "source": [
    "import matplotlib.pyplot as plt"
   ]
  },
  {
   "cell_type": "code",
   "execution_count": 2,
   "metadata": {},
   "outputs": [],
   "source": [
    "import pandas as pd\n",
    "full_data = pd.read_csv('https://query.data.world/s/ytbg4xg6c24i3cmvic6zspeg5pa6qr')\n",
    "new_cases = pd.read_csv('https://query.data.world/s/yebwylnavawqe4ozlit237qruwm3ow')\n",
    "new_deaths = pd.read_csv('https://query.data.world/s/cwpe4pil2phgiyrxbdr4eiq4zxfehz')\n",
    "total_cases = pd.read_csv('https://query.data.world/s/krgyo345co3e3kngbo6aqkwl2juzos')\n",
    "total_deaths = pd.read_csv('https://query.data.world/s/kqbeee6erlp624tjgeybmjijulgkv7')"
   ]
  },
  {
   "cell_type": "code",
   "execution_count": 3,
   "metadata": {},
   "outputs": [
    {
     "name": "stdout",
     "output_type": "stream",
     "text": [
      "         date     location  new_cases  new_deaths  total_cases  total_deaths\n",
      "0  2019-12-31  Afghanistan          0           0            0             0\n",
      "1  2020-01-01  Afghanistan          0           0            0             0\n",
      "2  2020-01-02  Afghanistan          0           0            0             0\n",
      "3  2020-01-03  Afghanistan          0           0            0             0\n",
      "4  2020-01-04  Afghanistan          0           0            0             0\n"
     ]
    }
   ],
   "source": [
    "print(full_data.head(5))"
   ]
  },
  {
   "cell_type": "code",
   "execution_count": 4,
   "metadata": {},
   "outputs": [
    {
     "name": "stdout",
     "output_type": "stream",
     "text": [
      "(6824, 6)\n"
     ]
    }
   ],
   "source": [
    "print(full_data.shape)"
   ]
  },
  {
   "cell_type": "code",
   "execution_count": 5,
   "metadata": {},
   "outputs": [
    {
     "name": "stdout",
     "output_type": "stream",
     "text": [
      "         date  World  Afghanistan  Albania  Algeria  Andorra  Angola  \\\n",
      "0  2019-12-31   27.0          0.0      NaN      0.0      NaN     NaN   \n",
      "1  2020-01-01    0.0          0.0      NaN      0.0      NaN     NaN   \n",
      "2  2020-01-02    0.0          0.0      NaN      0.0      NaN     NaN   \n",
      "3  2020-01-03   17.0          0.0      NaN      0.0      NaN     NaN   \n",
      "4  2020-01-04    0.0          0.0      NaN      0.0      NaN     NaN   \n",
      "\n",
      "   Antigua and Barbuda  Argentina  Armenia  ...  United Kingdom  \\\n",
      "0                  NaN        NaN      0.0  ...             0.0   \n",
      "1                  NaN        NaN      0.0  ...             0.0   \n",
      "2                  NaN        NaN      0.0  ...             0.0   \n",
      "3                  NaN        NaN      0.0  ...             0.0   \n",
      "4                  NaN        NaN      0.0  ...             0.0   \n",
      "\n",
      "   United States  United States Virgin Islands  Uruguay  Uzbekistan  Vatican  \\\n",
      "0            0.0                           NaN      NaN         NaN      NaN   \n",
      "1            0.0                           NaN      NaN         NaN      NaN   \n",
      "2            0.0                           NaN      NaN         NaN      NaN   \n",
      "3            0.0                           NaN      NaN         NaN      NaN   \n",
      "4            0.0                           NaN      NaN         NaN      NaN   \n",
      "\n",
      "   Venezuela  Vietnam  Zambia  Zimbabwe  \n",
      "0        NaN      0.0     NaN       NaN  \n",
      "1        NaN      0.0     NaN       NaN  \n",
      "2        NaN      0.0     NaN       NaN  \n",
      "3        NaN      0.0     NaN       NaN  \n",
      "4        NaN      0.0     NaN       NaN  \n",
      "\n",
      "[5 rows x 190 columns]\n"
     ]
    }
   ],
   "source": [
    "print(new_cases.head(5))"
   ]
  },
  {
   "cell_type": "code",
   "execution_count": 6,
   "metadata": {},
   "outputs": [
    {
     "name": "stdout",
     "output_type": "stream",
     "text": [
      "(86, 190)\n"
     ]
    }
   ],
   "source": [
    "print(new_cases.shape)"
   ]
  },
  {
   "cell_type": "code",
   "execution_count": 7,
   "metadata": {},
   "outputs": [
    {
     "name": "stdout",
     "output_type": "stream",
     "text": [
      "         date  World  Afghanistan  Albania  Algeria  Andorra  Angola  \\\n",
      "0  2019-12-31    0.0          0.0      NaN      0.0      NaN     NaN   \n",
      "1  2020-01-01    0.0          0.0      NaN      0.0      NaN     NaN   \n",
      "2  2020-01-02    0.0          0.0      NaN      0.0      NaN     NaN   \n",
      "3  2020-01-03    0.0          0.0      NaN      0.0      NaN     NaN   \n",
      "4  2020-01-04    0.0          0.0      NaN      0.0      NaN     NaN   \n",
      "\n",
      "   Antigua and Barbuda  Argentina  Armenia  ...  United Kingdom  \\\n",
      "0                  NaN        NaN      0.0  ...             0.0   \n",
      "1                  NaN        NaN      0.0  ...             0.0   \n",
      "2                  NaN        NaN      0.0  ...             0.0   \n",
      "3                  NaN        NaN      0.0  ...             0.0   \n",
      "4                  NaN        NaN      0.0  ...             0.0   \n",
      "\n",
      "   United States  United States Virgin Islands  Uruguay  Uzbekistan  Vatican  \\\n",
      "0            0.0                           NaN      NaN         NaN      NaN   \n",
      "1            0.0                           NaN      NaN         NaN      NaN   \n",
      "2            0.0                           NaN      NaN         NaN      NaN   \n",
      "3            0.0                           NaN      NaN         NaN      NaN   \n",
      "4            0.0                           NaN      NaN         NaN      NaN   \n",
      "\n",
      "   Venezuela  Vietnam  Zambia  Zimbabwe  \n",
      "0        NaN      0.0     NaN       NaN  \n",
      "1        NaN      0.0     NaN       NaN  \n",
      "2        NaN      0.0     NaN       NaN  \n",
      "3        NaN      0.0     NaN       NaN  \n",
      "4        NaN      0.0     NaN       NaN  \n",
      "\n",
      "[5 rows x 190 columns]\n"
     ]
    }
   ],
   "source": [
    "print(new_deaths.head(5))"
   ]
  },
  {
   "cell_type": "code",
   "execution_count": 8,
   "metadata": {},
   "outputs": [
    {
     "name": "stdout",
     "output_type": "stream",
     "text": [
      "(86, 190)\n"
     ]
    }
   ],
   "source": [
    "print(new_deaths.shape)"
   ]
  },
  {
   "cell_type": "code",
   "execution_count": 9,
   "metadata": {},
   "outputs": [
    {
     "name": "stdout",
     "output_type": "stream",
     "text": [
      "         date  World  Afghanistan  Albania  Algeria  Andorra  Angola  \\\n",
      "0  2019-12-31     27          0.0      NaN      0.0      NaN     NaN   \n",
      "1  2020-01-01     27          0.0      NaN      0.0      NaN     NaN   \n",
      "2  2020-01-02     27          0.0      NaN      0.0      NaN     NaN   \n",
      "3  2020-01-03     44          0.0      NaN      0.0      NaN     NaN   \n",
      "4  2020-01-04     44          0.0      NaN      0.0      NaN     NaN   \n",
      "\n",
      "   Antigua and Barbuda  Argentina  Armenia  ...  United Kingdom  \\\n",
      "0                  NaN        NaN      0.0  ...               0   \n",
      "1                  NaN        NaN      0.0  ...               0   \n",
      "2                  NaN        NaN      0.0  ...               0   \n",
      "3                  NaN        NaN      0.0  ...               0   \n",
      "4                  NaN        NaN      0.0  ...               0   \n",
      "\n",
      "   United States  United States Virgin Islands  Uruguay  Uzbekistan  Vatican  \\\n",
      "0              0                           NaN      NaN         NaN      NaN   \n",
      "1              0                           NaN      NaN         NaN      NaN   \n",
      "2              0                           NaN      NaN         NaN      NaN   \n",
      "3              0                           NaN      NaN         NaN      NaN   \n",
      "4              0                           NaN      NaN         NaN      NaN   \n",
      "\n",
      "   Venezuela  Vietnam  Zambia  Zimbabwe  \n",
      "0        NaN      0.0     NaN       NaN  \n",
      "1        NaN      0.0     NaN       NaN  \n",
      "2        NaN      0.0     NaN       NaN  \n",
      "3        NaN      0.0     NaN       NaN  \n",
      "4        NaN      0.0     NaN       NaN  \n",
      "\n",
      "[5 rows x 190 columns]\n"
     ]
    }
   ],
   "source": [
    "print(total_cases.head(5))"
   ]
  },
  {
   "cell_type": "code",
   "execution_count": 10,
   "metadata": {},
   "outputs": [
    {
     "name": "stdout",
     "output_type": "stream",
     "text": [
      "(86, 190)\n"
     ]
    }
   ],
   "source": [
    "print(total_cases.shape)"
   ]
  },
  {
   "cell_type": "code",
   "execution_count": 11,
   "metadata": {},
   "outputs": [
    {
     "name": "stdout",
     "output_type": "stream",
     "text": [
      "         date  World  Afghanistan  Albania  Algeria  Andorra  Angola  \\\n",
      "0  2019-12-31      0          0.0      NaN      0.0      NaN     NaN   \n",
      "1  2020-01-01      0          0.0      NaN      0.0      NaN     NaN   \n",
      "2  2020-01-02      0          0.0      NaN      0.0      NaN     NaN   \n",
      "3  2020-01-03      0          0.0      NaN      0.0      NaN     NaN   \n",
      "4  2020-01-04      0          0.0      NaN      0.0      NaN     NaN   \n",
      "\n",
      "   Antigua and Barbuda  Argentina  Armenia  ...  United Kingdom  \\\n",
      "0                  NaN        NaN      0.0  ...               0   \n",
      "1                  NaN        NaN      0.0  ...               0   \n",
      "2                  NaN        NaN      0.0  ...               0   \n",
      "3                  NaN        NaN      0.0  ...               0   \n",
      "4                  NaN        NaN      0.0  ...               0   \n",
      "\n",
      "   United States  United States Virgin Islands  Uruguay  Uzbekistan  Vatican  \\\n",
      "0              0                           NaN      NaN         NaN      NaN   \n",
      "1              0                           NaN      NaN         NaN      NaN   \n",
      "2              0                           NaN      NaN         NaN      NaN   \n",
      "3              0                           NaN      NaN         NaN      NaN   \n",
      "4              0                           NaN      NaN         NaN      NaN   \n",
      "\n",
      "   Venezuela  Vietnam  Zambia  Zimbabwe  \n",
      "0        NaN      0.0     NaN       NaN  \n",
      "1        NaN      0.0     NaN       NaN  \n",
      "2        NaN      0.0     NaN       NaN  \n",
      "3        NaN      0.0     NaN       NaN  \n",
      "4        NaN      0.0     NaN       NaN  \n",
      "\n",
      "[5 rows x 190 columns]\n"
     ]
    }
   ],
   "source": [
    "print(total_deaths.head(5))"
   ]
  },
  {
   "cell_type": "code",
   "execution_count": 12,
   "metadata": {},
   "outputs": [
    {
     "name": "stdout",
     "output_type": "stream",
     "text": [
      "(86, 190)\n"
     ]
    }
   ],
   "source": [
    "print(total_deaths.shape)"
   ]
  },
  {
   "cell_type": "code",
   "execution_count": 15,
   "metadata": {},
   "outputs": [],
   "source": [
    "a = len(full_data)"
   ]
  },
  {
   "cell_type": "code",
   "execution_count": 16,
   "metadata": {},
   "outputs": [
    {
     "data": {
      "text/plain": [
       "6824"
      ]
     },
     "execution_count": 16,
     "metadata": {},
     "output_type": "execute_result"
    }
   ],
   "source": [
    "a"
   ]
  },
  {
   "cell_type": "markdown",
   "metadata": {},
   "source": [
    "### Lets make a function to show the graph of any country for full_data"
   ]
  },
  {
   "cell_type": "code",
   "execution_count": 17,
   "metadata": {},
   "outputs": [],
   "source": [
    "def country(y):\n",
    "    x=str(y)\n",
    "    dt=pd.DataFrame()\n",
    "    tot_cas=[]\n",
    "    tot_dea=[]\n",
    "    date=[]\n",
    "    day=[]\n",
    "    ckp=0\n",
    "    for i in range(a):\n",
    "        if(full_data['location'][i]==x):\n",
    "            tot_cas.append(full_data['total_cases'][i])\n",
    "            tot_dea.append(full_data['total_deaths'][i])\n",
    "            date.append(full_data['date'][i])\n",
    "            day.append(ckp)\n",
    "            ckp=ckp+1\n",
    "    f=tot_cas.index(1)\n",
    "    tot_ca=tot_cas[f+1:]\n",
    "    tot_de=tot_dea[f+1:]\n",
    "    da=day[f+1:]\n",
    "    plt.plot(da, (tot_ca),label='Total Cases')\n",
    "    plt.plot(da, tot_de, label='Total Deaths')"
   ]
  },
  {
   "cell_type": "markdown",
   "metadata": {},
   "source": [
    "This function plots graph from the day first corona patient was found in the respective country. The number which is appearing as in day is the number started from the day of data measuring i.e. 31st december 2019. Function will give an error in case of china. Will debug it later by exceptions method"
   ]
  },
  {
   "cell_type": "code",
   "execution_count": 18,
   "metadata": {
    "scrolled": true
   },
   "outputs": [
    {
     "data": {
      "image/png": "[encoded data removed]",
      "text/plain": [
       "<Figure size 432x288 with 1 Axes>"
      ]
     },
     "metadata": {
      "needs_background": "light"
     },
     "output_type": "display_data"
    }
   ],
   "source": [
    "country('India')"
   ]
  },
  {
   "cell_type": "markdown",
   "metadata": {},
   "source": [
    "Lets build a Machine Learning Model to predict how much cases will increase and how much total deaths will occur"
   ]
  },
  {
   "cell_type": "code",
   "execution_count": 89,
   "metadata": {},
   "outputs": [],
   "source": [
    "total_cases=[]\n",
    "total_deaths=[]\n",
    "day=[]"
   ]
  },
  {
   "cell_type": "code",
   "execution_count": 90,
   "metadata": {},
   "outputs": [],
   "source": [
    "#building a function which gives lists of total cases and deaths from a particular day\n",
    "\n",
    "def func(x):\n",
    "    p=str(x)\n",
    "    ckp=0\n",
    "    for i in range(a):\n",
    "        if(full_data['location'][i]==p):\n",
    "            total_cases.append(full_data['total_cases'][i])\n",
    "            total_deaths.append(full_data['total_deaths'][i])\n",
    "            day.append(ckp)\n",
    "            ckp=ckp+1"
   ]
  },
  {
   "cell_type": "code",
   "execution_count": 91,
   "metadata": {},
   "outputs": [],
   "source": [
    "func('India')"
   ]
  },
  {
   "cell_type": "code",
   "execution_count": 92,
   "metadata": {},
   "outputs": [
    {
     "data": {
      "text/plain": [
       "<matplotlib.collections.PathCollection at 0x2ce06ed3708>"
      ]
     },
     "execution_count": 92,
     "metadata": {},
     "output_type": "execute_result"
    },
    {
     "data": {
      "image/png": "[encoded data removed]",
      "text/plain": [
       "<Figure size 432x288 with 1 Axes>"
      ]
     },
     "metadata": {
      "needs_background": "light"
     },
     "output_type": "display_data"
    }
   ],
   "source": [
    "plt.scatter(day, total_cases)"
   ]
  },
  {
   "cell_type": "code",
   "execution_count": 93,
   "metadata": {},
   "outputs": [
    {
     "data": {
      "text/plain": [
       "<matplotlib.collections.PathCollection at 0x2ce064f41c8>"
      ]
     },
     "execution_count": 93,
     "metadata": {},
     "output_type": "execute_result"
    },
    {
     "data": {
      "image/png": "[encoded data removed]",
      "text/plain": [
       "<Figure size 432x288 with 1 Axes>"
      ]
     },
     "metadata": {
      "needs_background": "light"
     },
     "output_type": "display_data"
    }
   ],
   "source": [
    "plt.scatter(day, total_deaths)"
   ]
  },
  {
   "cell_type": "markdown",
   "metadata": {},
   "source": [
    "Its pretty clear that sudden rise was seen from approx day 62 in total_cases rise. So lets start building model from day 60"
   ]
  },
  {
   "cell_type": "code",
   "execution_count": 117,
   "metadata": {},
   "outputs": [],
   "source": [
    "day_model=day[60:]\n",
    "total_cases_model=total_cases[60:]\n",
    "total_deaths_model = total_deaths[60:]"
   ]
  },
  {
   "cell_type": "markdown",
   "metadata": {},
   "source": [
    "### 1) Prediction by Linear Regression Model(will give a pretty bad model as we can see already that data is not varying linearly in available data"
   ]
  },
  {
   "cell_type": "code",
   "execution_count": 100,
   "metadata": {},
   "outputs": [],
   "source": [
    "from scipy import stats"
   ]
  },
  {
   "cell_type": "code",
   "execution_count": 102,
   "metadata": {},
   "outputs": [],
   "source": [
    "slope, intercept, r, p, std_err = stats.linregress(day_model, total_cases_model)\n",
    "def f(x):\n",
    "    return slope*x + intercept\n",
    "mymodel= list(map(f,day_model))"
   ]
  },
  {
   "cell_type": "code",
   "execution_count": 103,
   "metadata": {},
   "outputs": [
    {
     "data": {
      "text/plain": [
       "0.8593066872590821"
      ]
     },
     "execution_count": 103,
     "metadata": {},
     "output_type": "execute_result"
    }
   ],
   "source": [
    "r"
   ]
  },
  {
   "cell_type": "code",
   "execution_count": 104,
   "metadata": {},
   "outputs": [],
   "source": [
    "#0.85 is a good number so ML model is average but we know that this is the worst"
   ]
  },
  {
   "cell_type": "code",
   "execution_count": 108,
   "metadata": {},
   "outputs": [],
   "source": [
    "def g(x):\n",
    "    y=int(x)\n",
    "    for i in range(y):\n",
    "        day_model.append(day_model[-1]+1)\n",
    "        total_cases_model.append(slope*day_model[-1] + intercept)"
   ]
  },
  {
   "cell_type": "code",
   "execution_count": 109,
   "metadata": {},
   "outputs": [],
   "source": [
    "g(30)"
   ]
  },
  {
   "cell_type": "code",
   "execution_count": 110,
   "metadata": {},
   "outputs": [
    {
     "data": {
      "text/plain": [
       "[<matplotlib.lines.Line2D at 0x2ce08c26508>]"
      ]
     },
     "execution_count": 110,
     "metadata": {},
     "output_type": "execute_result"
    },
    {
     "data": {
      "image/png": "[encoded data removed]",
      "text/plain": [
       "<Figure size 432x288 with 1 Axes>"
      ]
     },
     "metadata": {
      "needs_background": "light"
     },
     "output_type": "display_data"
    }
   ],
   "source": [
    "plt.plot(day_model, total_cases_model)"
   ]
  },
  {
   "cell_type": "markdown",
   "metadata": {},
   "source": [
    "Pretty bad, isnt it"
   ]
  },
  {
   "cell_type": "markdown",
   "metadata": {},
   "source": [
    "### 2. Polynomial Regression Model"
   ]
  },
  {
   "cell_type": "code",
   "execution_count": 118,
   "metadata": {},
   "outputs": [],
   "source": [
    "import numpy as np"
   ]
  },
  {
   "cell_type": "code",
   "execution_count": 119,
   "metadata": {},
   "outputs": [],
   "source": [
    "mymodel_1 = np.poly1d(np.polyfit(day_model,total_cases_model,3))"
   ]
  },
  {
   "cell_type": "code",
   "execution_count": 120,
   "metadata": {},
   "outputs": [],
   "source": [
    "from sklearn.metrics import r2_score"
   ]
  },
  {
   "cell_type": "code",
   "execution_count": 121,
   "metadata": {},
   "outputs": [
    {
     "name": "stdout",
     "output_type": "stream",
     "text": [
      "0.9861014795074262\n"
     ]
    }
   ],
   "source": [
    "print(r2_score(total_cases_model, mymodel_1(day_model)))"
   ]
  },
  {
   "cell_type": "code",
   "execution_count": 122,
   "metadata": {},
   "outputs": [],
   "source": [
    "def g(x):\n",
    "    y=int(x)\n",
    "    for i in range(y):\n",
    "        day_model.append(day_model[-1]+1)\n",
    "        total_cases_model.append(mymodel_1(day_model[-1]))"
   ]
  },
  {
   "cell_type": "code",
   "execution_count": 123,
   "metadata": {},
   "outputs": [],
   "source": [
    "g(30)"
   ]
  },
  {
   "cell_type": "code",
   "execution_count": 128,
   "metadata": {},
   "outputs": [
    {
     "data": {
      "text/plain": [
       "[<matplotlib.lines.Line2D at 0x2ce0950ae08>]"
      ]
     },
     "execution_count": 128,
     "metadata": {},
     "output_type": "execute_result"
    },
    {
     "data": {
      "image/png": "[encoded data removed]",
      "text/plain": [
       "<Figure size 432x288 with 1 Axes>"
      ]
     },
     "metadata": {
      "needs_background": "light"
     },
     "output_type": "display_data"
    }
   ],
   "source": [
    "plt.plot(day_model, total_cases_model)"
   ]
  },
  {
   "cell_type": "code",
   "execution_count": 178,
   "metadata": {},
   "outputs": [],
   "source": [
    "#finding number of total cases at any futuristic day\n",
    "def total_cases_at_day(x):\n",
    "    y=int(x)\n",
    "    print(mymodel_1(y))\n",
    "    "
   ]
  },
  {
   "cell_type": "code",
   "execution_count": 179,
   "metadata": {},
   "outputs": [
    {
     "name": "stdout",
     "output_type": "stream",
     "text": [
      "900.1705611297511\n"
     ]
    }
   ],
   "source": [
    "total_cases_at_day(87)"
   ]
  },
  {
   "cell_type": "code",
   "execution_count": 181,
   "metadata": {},
   "outputs": [
    {
     "name": "stdout",
     "output_type": "stream",
     "text": [
      "3990.096648087252\n"
     ]
    }
   ],
   "source": [
    "total_cases_at_day(100)"
   ]
  },
  {
   "cell_type": "code",
   "execution_count": 154,
   "metadata": {},
   "outputs": [],
   "source": [
    "#currently varying a lot as todays cases are approx 700"
   ]
  },
  {
   "cell_type": "code",
   "execution_count": 161,
   "metadata": {},
   "outputs": [],
   "source": [
    "#Lets build it again by taking all the data right from the day first corona patient was found"
   ]
  },
  {
   "cell_type": "code",
   "execution_count": 163,
   "metadata": {},
   "outputs": [],
   "source": [
    " dt=pd.DataFrame()\n",
    "tot_cas=[]\n",
    "tot_dea=[]\n",
    "date=[]\n",
    "day=[]\n",
    "ckp=0\n",
    "for i in range(a):\n",
    "    if(full_data['location'][i]=='India'):\n",
    "        tot_cas.append(full_data['total_cases'][i])\n",
    "        tot_dea.append(full_data['total_deaths'][i])\n",
    "        date.append(full_data['date'][i])\n",
    "        day.append(ckp)\n",
    "        ckp=ckp+1\n",
    "f=tot_cas.index(1)\n",
    "tot_ca=tot_cas[f+1:]\n",
    "tot_de=tot_dea[f+1:]\n",
    "da=day[f+1:]"
   ]
  },
  {
   "cell_type": "code",
   "execution_count": 171,
   "metadata": {},
   "outputs": [],
   "source": [
    "mymodel_2 = np.poly1d(np.polyfit(da,tot_ca,3))"
   ]
  },
  {
   "cell_type": "code",
   "execution_count": 172,
   "metadata": {},
   "outputs": [
    {
     "name": "stdout",
     "output_type": "stream",
     "text": [
      "0.9365552654648838\n"
     ]
    }
   ],
   "source": [
    "print(r2_score(tot_ca, mymodel_2(da)))"
   ]
  },
  {
   "cell_type": "code",
   "execution_count": 173,
   "metadata": {},
   "outputs": [],
   "source": [
    "#we knew that r squared will come lesser as complete data is taken\n",
    "def h(x):\n",
    "    y=int(x)\n",
    "    for i in range(y):\n",
    "        day.append(da[-1]+1)\n",
    "        total_cases.append(mymodel_2(da[-1]))"
   ]
  },
  {
   "cell_type": "code",
   "execution_count": 174,
   "metadata": {},
   "outputs": [],
   "source": [
    "h(30)"
   ]
  },
  {
   "cell_type": "code",
   "execution_count": 175,
   "metadata": {},
   "outputs": [
    {
     "data": {
      "text/plain": [
       "[<matplotlib.lines.Line2D at 0x2ce096ca788>]"
      ]
     },
     "execution_count": 175,
     "metadata": {},
     "output_type": "execute_result"
    },
    {
     "data": {
      "image/png": "[encoded data removed]",
      "text/plain": [
       "<Figure size 432x288 with 1 Axes>"
      ]
     },
     "metadata": {
      "needs_background": "light"
     },
     "output_type": "display_data"
    }
   ],
   "source": [
    "plt.plot(da, tot_ca)"
   ]
  },
  {
   "cell_type": "code",
   "execution_count": 176,
   "metadata": {},
   "outputs": [
    {
     "name": "stdout",
     "output_type": "stream",
     "text": [
      "629.9083940887388\n"
     ]
    }
   ],
   "source": [
    "print(mymodel_2(87))"
   ]
  },
  {
   "cell_type": "code",
   "execution_count": 182,
   "metadata": {},
   "outputs": [
    {
     "name": "stdout",
     "output_type": "stream",
     "text": [
      "1718.4463409076018\n"
     ]
    }
   ],
   "source": [
    "print(mymodel_2(100))"
   ]
  },
  {
   "cell_type": "code",
   "execution_count": 198,
   "metadata": {},
   "outputs": [],
   "source": [
    "ack=[]\n",
    "d=0\n",
    "for i in range(10):\n",
    "    ack.append((mymodel_2(87+i+1),d+1))\n",
    "    d=d+1"
   ]
  },
  {
   "cell_type": "code",
   "execution_count": 199,
   "metadata": {},
   "outputs": [
    {
     "data": {
      "text/plain": [
       "[(690.4872570847981, 1),\n",
       " (754.582094372958, 2),\n",
       " (822.2864959290448, 3),\n",
       " (893.6940517288851, 4),\n",
       " (968.8983517483018, 5),\n",
       " (1047.9929859631245, 6),\n",
       " (1131.0715443491779, 7),\n",
       " (1218.227616882287, 8),\n",
       " (1309.5547935382804, 9),\n",
       " (1405.1466642929806, 10)]"
      ]
     },
     "execution_count": 199,
     "metadata": {},
     "output_type": "execute_result"
    }
   ],
   "source": [
    "ack"
   ]
  },
  {
   "cell_type": "code",
   "execution_count": null,
   "metadata": {},
   "outputs": [],
   "source": []
  }
 ],
 "metadata": {
  "kernelspec": {
   "display_name": "Python 3",
   "language": "python",
   "name": "python3"
  },
  "language_info": {
   "codemirror_mode": {
    "name": "ipython",
    "version": 3
   },
   "file_extension": ".py",
   "mimetype": "text/x-python",
   "name": "python",
   "nbconvert_exporter": "python",
   "pygments_lexer": "ipython3",
   "version": "3.7.6"
  }
 },
 "nbformat": 4,
 "nbformat_minor": 4
}
