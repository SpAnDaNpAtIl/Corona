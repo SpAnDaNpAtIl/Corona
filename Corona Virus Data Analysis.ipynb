{
 "cells": [
  {
   "cell_type": "markdown",
   "metadata": {},
   "source": [
    "# Corona Virus Data Analysis by SPANDAN\n",
    "\n",
    "This data is taken from data.world and is updated daily. Databasing started from december"
   ]
  },
  {
   "cell_type": "code",
   "execution_count": 194,
   "metadata": {},
   "outputs": [],
   "source": [
    "import matplotlib.pyplot as plt"
   ]
  },
  {
   "cell_type": "code",
   "execution_count": 5,
   "metadata": {},
   "outputs": [],
   "source": [
    "import pandas as pd\n",
    "full_data = pd.read_csv('https://query.data.world/s/ytbg4xg6c24i3cmvic6zspeg5pa6qr')\n",
    "new_cases = pd.read_csv('https://query.data.world/s/yebwylnavawqe4ozlit237qruwm3ow')\n",
    "new_deaths = pd.read_csv('https://query.data.world/s/cwpe4pil2phgiyrxbdr4eiq4zxfehz')\n",
    "total_cases = pd.read_csv('https://query.data.world/s/krgyo345co3e3kngbo6aqkwl2juzos')\n",
    "total_deaths = pd.read_csv('https://query.data.world/s/kqbeee6erlp624tjgeybmjijulgkv7')"
   ]
  },
  {
   "cell_type": "code",
   "execution_count": 24,
   "metadata": {},
   "outputs": [
    {
     "name": "stdout",
     "output_type": "stream",
     "text": [
      "         date     location  new_cases  new_deaths  total_cases  total_deaths\n",
      "0  2019-12-31  Afghanistan          0           0            0             0\n",
      "1  2020-01-01  Afghanistan          0           0            0             0\n",
      "2  2020-01-02  Afghanistan          0           0            0             0\n",
      "3  2020-01-03  Afghanistan          0           0            0             0\n",
      "4  2020-01-04  Afghanistan          0           0            0             0\n"
     ]
    }
   ],
   "source": [
    "print(full_data.head(5))"
   ]
  },
  {
   "cell_type": "code",
   "execution_count": 9,
   "metadata": {},
   "outputs": [
    {
     "name": "stdout",
     "output_type": "stream",
     "text": [
      "(6636, 6)\n"
     ]
    }
   ],
   "source": [
    "print(full_data.shape)"
   ]
  },
  {
   "cell_type": "code",
   "execution_count": 10,
   "metadata": {},
   "outputs": [
    {
     "name": "stdout",
     "output_type": "stream",
     "text": [
      "         date  World  Afghanistan  Albania  Algeria  Andorra  Angola  \\\n",
      "0  2019-12-31   27.0          0.0      NaN      0.0      NaN     NaN   \n",
      "1  2020-01-01    0.0          0.0      NaN      0.0      NaN     NaN   \n",
      "2  2020-01-02    0.0          0.0      NaN      0.0      NaN     NaN   \n",
      "3  2020-01-03   17.0          0.0      NaN      0.0      NaN     NaN   \n",
      "4  2020-01-04    0.0          0.0      NaN      0.0      NaN     NaN   \n",
      "\n",
      "   Antigua and Barbuda  Argentina  Armenia  ...  United Kingdom  \\\n",
      "0                  NaN        NaN      0.0  ...             0.0   \n",
      "1                  NaN        NaN      0.0  ...             0.0   \n",
      "2                  NaN        NaN      0.0  ...             0.0   \n",
      "3                  NaN        NaN      0.0  ...             0.0   \n",
      "4                  NaN        NaN      0.0  ...             0.0   \n",
      "\n",
      "   United States  United States Virgin Islands  Uruguay  Uzbekistan  Vatican  \\\n",
      "0            0.0                           NaN      NaN         NaN      NaN   \n",
      "1            0.0                           NaN      NaN         NaN      NaN   \n",
      "2            0.0                           NaN      NaN         NaN      NaN   \n",
      "3            0.0                           NaN      NaN         NaN      NaN   \n",
      "4            0.0                           NaN      NaN         NaN      NaN   \n",
      "\n",
      "   Venezuela  Vietnam  Zambia  Zimbabwe  \n",
      "0        NaN      0.0     NaN       NaN  \n",
      "1        NaN      0.0     NaN       NaN  \n",
      "2        NaN      0.0     NaN       NaN  \n",
      "3        NaN      0.0     NaN       NaN  \n",
      "4        NaN      0.0     NaN       NaN  \n",
      "\n",
      "[5 rows x 187 columns]\n"
     ]
    }
   ],
   "source": [
    "print(new_cases.head(5))"
   ]
  },
  {
   "cell_type": "code",
   "execution_count": 11,
   "metadata": {},
   "outputs": [
    {
     "name": "stdout",
     "output_type": "stream",
     "text": [
      "(85, 187)\n"
     ]
    }
   ],
   "source": [
    "print(new_cases.shape)"
   ]
  },
  {
   "cell_type": "code",
   "execution_count": 12,
   "metadata": {},
   "outputs": [
    {
     "name": "stdout",
     "output_type": "stream",
     "text": [
      "         date  World  Afghanistan  Albania  Algeria  Andorra  Angola  \\\n",
      "0  2019-12-31    0.0          0.0      NaN      0.0      NaN     NaN   \n",
      "1  2020-01-01    0.0          0.0      NaN      0.0      NaN     NaN   \n",
      "2  2020-01-02    0.0          0.0      NaN      0.0      NaN     NaN   \n",
      "3  2020-01-03    0.0          0.0      NaN      0.0      NaN     NaN   \n",
      "4  2020-01-04    0.0          0.0      NaN      0.0      NaN     NaN   \n",
      "\n",
      "   Antigua and Barbuda  Argentina  Armenia  ...  United Kingdom  \\\n",
      "0                  NaN        NaN      0.0  ...             0.0   \n",
      "1                  NaN        NaN      0.0  ...             0.0   \n",
      "2                  NaN        NaN      0.0  ...             0.0   \n",
      "3                  NaN        NaN      0.0  ...             0.0   \n",
      "4                  NaN        NaN      0.0  ...             0.0   \n",
      "\n",
      "   United States  United States Virgin Islands  Uruguay  Uzbekistan  Vatican  \\\n",
      "0            0.0                           NaN      NaN         NaN      NaN   \n",
      "1            0.0                           NaN      NaN         NaN      NaN   \n",
      "2            0.0                           NaN      NaN         NaN      NaN   \n",
      "3            0.0                           NaN      NaN         NaN      NaN   \n",
      "4            0.0                           NaN      NaN         NaN      NaN   \n",
      "\n",
      "   Venezuela  Vietnam  Zambia  Zimbabwe  \n",
      "0        NaN      0.0     NaN       NaN  \n",
      "1        NaN      0.0     NaN       NaN  \n",
      "2        NaN      0.0     NaN       NaN  \n",
      "3        NaN      0.0     NaN       NaN  \n",
      "4        NaN      0.0     NaN       NaN  \n",
      "\n",
      "[5 rows x 187 columns]\n"
     ]
    }
   ],
   "source": [
    "print(new_deaths.head(5))"
   ]
  },
  {
   "cell_type": "code",
   "execution_count": 13,
   "metadata": {},
   "outputs": [
    {
     "name": "stdout",
     "output_type": "stream",
     "text": [
      "(85, 187)\n"
     ]
    }
   ],
   "source": [
    "print(new_deaths.shape)"
   ]
  },
  {
   "cell_type": "code",
   "execution_count": 14,
   "metadata": {},
   "outputs": [
    {
     "name": "stdout",
     "output_type": "stream",
     "text": [
      "         date  World  Afghanistan  Albania  Algeria  Andorra  Angola  \\\n",
      "0  2019-12-31     27          0.0      NaN      0.0      NaN     NaN   \n",
      "1  2020-01-01     27          0.0      NaN      0.0      NaN     NaN   \n",
      "2  2020-01-02     27          0.0      NaN      0.0      NaN     NaN   \n",
      "3  2020-01-03     44          0.0      NaN      0.0      NaN     NaN   \n",
      "4  2020-01-04     44          0.0      NaN      0.0      NaN     NaN   \n",
      "\n",
      "   Antigua and Barbuda  Argentina  Armenia  ...  United Kingdom  \\\n",
      "0                  NaN        NaN      0.0  ...               0   \n",
      "1                  NaN        NaN      0.0  ...               0   \n",
      "2                  NaN        NaN      0.0  ...               0   \n",
      "3                  NaN        NaN      0.0  ...               0   \n",
      "4                  NaN        NaN      0.0  ...               0   \n",
      "\n",
      "   United States  United States Virgin Islands  Uruguay  Uzbekistan  Vatican  \\\n",
      "0              0                           NaN      NaN         NaN      NaN   \n",
      "1              0                           NaN      NaN         NaN      NaN   \n",
      "2              0                           NaN      NaN         NaN      NaN   \n",
      "3              0                           NaN      NaN         NaN      NaN   \n",
      "4              0                           NaN      NaN         NaN      NaN   \n",
      "\n",
      "   Venezuela  Vietnam  Zambia  Zimbabwe  \n",
      "0        NaN      0.0     NaN       NaN  \n",
      "1        NaN      0.0     NaN       NaN  \n",
      "2        NaN      0.0     NaN       NaN  \n",
      "3        NaN      0.0     NaN       NaN  \n",
      "4        NaN      0.0     NaN       NaN  \n",
      "\n",
      "[5 rows x 187 columns]\n"
     ]
    }
   ],
   "source": [
    "print(total_cases.head(5))"
   ]
  },
  {
   "cell_type": "code",
   "execution_count": 15,
   "metadata": {},
   "outputs": [
    {
     "name": "stdout",
     "output_type": "stream",
     "text": [
      "(85, 187)\n"
     ]
    }
   ],
   "source": [
    "print(total_cases.shape)"
   ]
  },
  {
   "cell_type": "code",
   "execution_count": 16,
   "metadata": {},
   "outputs": [
    {
     "name": "stdout",
     "output_type": "stream",
     "text": [
      "         date  World  Afghanistan  Albania  Algeria  Andorra  Angola  \\\n",
      "0  2019-12-31      0          0.0      NaN      0.0      NaN     NaN   \n",
      "1  2020-01-01      0          0.0      NaN      0.0      NaN     NaN   \n",
      "2  2020-01-02      0          0.0      NaN      0.0      NaN     NaN   \n",
      "3  2020-01-03      0          0.0      NaN      0.0      NaN     NaN   \n",
      "4  2020-01-04      0          0.0      NaN      0.0      NaN     NaN   \n",
      "\n",
      "   Antigua and Barbuda  Argentina  Armenia  ...  United Kingdom  \\\n",
      "0                  NaN        NaN      0.0  ...               0   \n",
      "1                  NaN        NaN      0.0  ...               0   \n",
      "2                  NaN        NaN      0.0  ...               0   \n",
      "3                  NaN        NaN      0.0  ...               0   \n",
      "4                  NaN        NaN      0.0  ...               0   \n",
      "\n",
      "   United States  United States Virgin Islands  Uruguay  Uzbekistan  Vatican  \\\n",
      "0              0                           NaN      NaN         NaN      NaN   \n",
      "1              0                           NaN      NaN         NaN      NaN   \n",
      "2              0                           NaN      NaN         NaN      NaN   \n",
      "3              0                           NaN      NaN         NaN      NaN   \n",
      "4              0                           NaN      NaN         NaN      NaN   \n",
      "\n",
      "   Venezuela  Vietnam  Zambia  Zimbabwe  \n",
      "0        NaN      0.0     NaN       NaN  \n",
      "1        NaN      0.0     NaN       NaN  \n",
      "2        NaN      0.0     NaN       NaN  \n",
      "3        NaN      0.0     NaN       NaN  \n",
      "4        NaN      0.0     NaN       NaN  \n",
      "\n",
      "[5 rows x 187 columns]\n"
     ]
    }
   ],
   "source": [
    "print(total_deaths.head(5))"
   ]
  },
  {
   "cell_type": "code",
   "execution_count": 17,
   "metadata": {},
   "outputs": [
    {
     "name": "stdout",
     "output_type": "stream",
     "text": [
      "(85, 187)\n"
     ]
    }
   ],
   "source": [
    "print(total_deaths.shape)"
   ]
  },
  {
   "cell_type": "markdown",
   "metadata": {},
   "source": [
    "### Lets make a function to show the graph of any country for full_data"
   ]
  },
  {
   "cell_type": "code",
   "execution_count": 232,
   "metadata": {},
   "outputs": [],
   "source": [
    "def country(y):\n",
    "    x=str(y)\n",
    "    dt=pd.DataFrame()\n",
    "    tot_cas=[]\n",
    "    tot_dea=[]\n",
    "    date=[]\n",
    "    day=[]\n",
    "    ckp=0\n",
    "    for i in range(a):\n",
    "        if(full_data['location'][i]==x):\n",
    "            tot_cas.append(full_data['total_cases'][i])\n",
    "            tot_dea.append(full_data['total_deaths'][i])\n",
    "            date.append(full_data['date'][i])\n",
    "            day.append(ckp)\n",
    "            ckp=ckp+1\n",
    "    f=tot_cas.index(1)\n",
    "    tot_ca=tot_cas[f+1:]\n",
    "    tot_de=tot_dea[f+1:]\n",
    "    da=day[f+1:]\n",
    "    plt.plot(da, (tot_ca),label='Total Cases')\n",
    "    plt.plot(da, tot_de, label='Total Deaths')"
   ]
  },
  {
   "cell_type": "markdown",
   "metadata": {},
   "source": [
    "This function plots graph from the day first corona patient was found in the respective country. The number which is appearing as in day is the number started from the day of data measuring i.e. 31st december 2019. Function will give an error in case of china. Will debug it later by exceptions method"
   ]
  },
  {
   "cell_type": "code",
   "execution_count": 244,
   "metadata": {},
   "outputs": [
    {
     "data": {
      "image/png": "[encoded data removed]",
      "text/plain": [
       "<Figure size 432x288 with 1 Axes>"
      ]
     },
     "metadata": {
      "needs_background": "light"
     },
     "output_type": "display_data"
    }
   ],
   "source": [
    "country('India')"
   ]
  },
  {
   "cell_type": "code",
   "execution_count": null,
   "metadata": {},
   "outputs": [],
   "source": []
  }
 ],
 "metadata": {
  "kernelspec": {
   "display_name": "Python 3",
   "language": "python",
   "name": "python3"
  },
  "language_info": {
   "codemirror_mode": {
    "name": "ipython",
    "version": 3
   },
   "file_extension": ".py",
   "mimetype": "text/x-python",
   "name": "python",
   "nbconvert_exporter": "python",
   "pygments_lexer": "ipython3",
   "version": "3.7.6"
  }
 },
 "nbformat": 4,
 "nbformat_minor": 4
}
